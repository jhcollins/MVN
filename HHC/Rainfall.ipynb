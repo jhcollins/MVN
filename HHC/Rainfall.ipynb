{
 "cells": [
  {
   "cell_type": "code",
   "execution_count": null,
   "metadata": {},
   "outputs": [],
   "source": [
    "import sys\n",
    "\n",
    "from ipywidgets import Button, Dropdown, Output, HBox, VBox\n",
    "\n",
    "from ipyleaflet import Map, MapStyle, Marker\n",
    "\n",
    "from bqplot import Axis, LinearScale, Lines, Figure, Toolbar\n",
    "\n",
    "from precipitation.predicted import rainfall_pred1 as prcp"
   ]
  },
  {
   "cell_type": "code",
   "execution_count": null,
   "metadata": {},
   "outputs": [],
   "source": [
    "duration_dropdown = Dropdown(description='Duration', value='30-min', options=[\n",
    "    '5-min', '10-min', '15-min', '30-min', '60-min',\n",
    "    '2-hr', '3-hr', '6-hr', '12-hr', '24-hr',\n",
    "    '2-day', '3-day', '4-day', '7-day', '10-day',\n",
    "    '20-day', '30-day', '45-day', '60-day'\n",
    "])\n",
    "\n",
    "annual_return_intervals_dropdown = Dropdown(description='Return', value='all', options=[\n",
    "    '1', '2', '5', '10', '25', '50',\n",
    "    '100', '200', '500', '1000', 'all'\n",
    "])\n",
    "\n",
    "message = Output()"
   ]
  },
  {
   "cell_type": "code",
   "execution_count": null,
   "metadata": {
    "scrolled": false
   },
   "outputs": [],
   "source": [
    "# Create map and marker for the precipitaion location\n",
    "m = Map(center=(37.09, -95.71), zoom=4, scroll_wheel_zoom=True)\n",
    "\n",
    "marker = Marker(location=(37.09, -95.71), draggable=True)\n",
    "\n",
    "m.add_layer(marker)\n",
    "\n",
    "m"
   ]
  },
  {
   "cell_type": "code",
   "execution_count": null,
   "metadata": {},
   "outputs": [],
   "source": [
    "# On click on the map: Update marker location\n",
    "def on_interaction(event, type, coordinates):\n",
    "    global marker\n",
    "\n",
    "    if type == 'click':\n",
    "        marker.location = coordinates\n",
    "\n",
    "m.on_interaction(on_interaction)"
   ]
  },
  {
   "cell_type": "code",
   "execution_count": null,
   "metadata": {},
   "outputs": [],
   "source": [
    "# Create 2-D plot for the line chart\n",
    "sc_x = LinearScale()\n",
    "sc_y = LinearScale()\n",
    "\n",
    "ax_x = Axis(scale=sc_x, label='Minutes', tick_format='.1f')\n",
    "ax_y = Axis(scale=sc_y, orientation='vertical', label='Inches', tick_format='i')\n",
    "\n",
    "lines = Lines(x=[], y=[], scales={'x': sc_x, 'y': sc_y})\n",
    "\n",
    "figure = Figure(marks=[lines], axes=[ax_x, ax_y], title='Precipitation')\n",
    "\n",
    "toolbar = Toolbar(figure=figure)"
   ]
  },
  {
   "cell_type": "code",
   "execution_count": null,
   "metadata": {},
   "outputs": [],
   "source": [
    "# Update the plot on change events\n",
    "def update_plot(*args, **kwargs):\n",
    "    global duration_dropdown\n",
    "    global annual_return_intervals_dropdown\n",
    "    global marker\n",
    "\n",
    "    message.clear_output()\n",
    "\n",
    "    lat, long = marker.location\n",
    "    intervals = annual_return_intervals_dropdown.value\n",
    "    duration = duration_dropdown.value\n",
    "    \n",
    "    with message:\n",
    "        try:\n",
    "            prcp.run_precip(lat, long, intervals, duration)\n",
    "\n",
    "            print('Lat/Long: ({}, {})'.format(lat, long))\n",
    "\n",
    "            mins = [i * 5 for i in prcp.hrs]\n",
    "\n",
    "            lines.x = mins\n",
    "            lines.y = prcp.list_return\n",
    "        except:\n",
    "            print('Marker should be in the USA', file=sys.stderr)\n",
    "\n",
    "            lines.x = []\n",
    "            lines.y = []\n",
    "\n",
    "# Update plot when the marker moved, or when an option changed\n",
    "marker.observe(update_plot, 'location')\n",
    "duration_dropdown.observe(update_plot, 'value')\n",
    "annual_return_intervals_dropdown.observe(update_plot, 'value')"
   ]
  },
  {
   "cell_type": "code",
   "execution_count": null,
   "metadata": {},
   "outputs": [],
   "source": [
    "HBox((duration_dropdown, annual_return_intervals_dropdown, message))"
   ]
  },
  {
   "cell_type": "code",
   "execution_count": null,
   "metadata": {},
   "outputs": [],
   "source": [
    "VBox((figure, toolbar))"
   ]
  },
  {
   "cell_type": "code",
   "execution_count": null,
   "metadata": {},
   "outputs": [],
   "source": [
    "update_plot()"
   ]
  }
 ],
 "metadata": {
  "kernelspec": {
   "display_name": "Python 3",
   "language": "python",
   "name": "python3"
  },
  "language_info": {
   "codemirror_mode": {
    "name": "ipython",
    "version": 3
   },
   "file_extension": ".py",
   "mimetype": "text/x-python",
   "name": "python",
   "nbconvert_exporter": "python",
   "pygments_lexer": "ipython3",
   "version": "3.8.0"
  }
 },
 "nbformat": 4,
 "nbformat_minor": 2
}
