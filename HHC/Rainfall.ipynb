{
 "cells": [
  {
   "cell_type": "code",
   "execution_count": null,
   "metadata": {},
   "outputs": [],
   "source": [
    "from ipywidgets import Button, Dropdown, HBox\n",
    "\n",
    "from ipyleaflet import Map, MapStyle, Marker\n",
    "\n",
    "from bqplot import Axis, LinearScale, Lines, Figure\n",
    "\n",
    "from precipitation.predicted import rainfall_pred1 as prcp"
   ]
  },
  {
   "cell_type": "code",
   "execution_count": null,
   "metadata": {},
   "outputs": [],
   "source": [
    "duration_dropdown = Dropdown(description='Duration', options=[\n",
    "    '5-min', '10-min', '15-min', '30-min', '60-min',\n",
    "    '2-hr', '3-hr', '6-hr', '12-hr', '24-hr',\n",
    "    '2-day', '3-day', '4-day', '7-day', '10-day',\n",
    "    '20-day', '30-day', '45-day', '60-day'\n",
    "])\n",
    "\n",
    "annual_return_intervals_dropdown = Dropdown(description='Return', options=[\n",
    "    '1', '2', '5', '10', '25', '50',\n",
    "    '100', '200', '500', '1000', 'all'\n",
    "])\n",
    "\n",
    "precipitation_button = Button(description='Get precipitation')"
   ]
  },
  {
   "cell_type": "code",
   "execution_count": null,
   "metadata": {
    "scrolled": false
   },
   "outputs": [],
   "source": [
    "# Create map and marker for the precipitaion location\n",
    "\n",
    "m = Map(center=(37.09, -95.71), zoom=4)\n",
    "\n",
    "marker = Marker(location=(37.09, -95.71), draggable=True)\n",
    "\n",
    "m.add_layer(marker)\n",
    "\n",
    "m"
   ]
  },
  {
   "cell_type": "code",
   "execution_count": null,
   "metadata": {},
   "outputs": [],
   "source": [
    "# On click on the map: Update the marker location\n",
    "\n",
    "def on_interaction(event, type, coordinates):\n",
    "    global marker\n",
    "\n",
    "    if type == 'click':\n",
    "        marker.location = coordinates\n",
    "\n",
    "m.on_interaction(on_interaction)"
   ]
  },
  {
   "cell_type": "code",
   "execution_count": null,
   "metadata": {},
   "outputs": [],
   "source": [
    "# Create 2-D plot for the line chart\n",
    "\n",
    "sc_x = LinearScale()\n",
    "sc_y = LinearScale()\n",
    "\n",
    "ax_x = Axis(scale=sc_x, label='Minutes')\n",
    "ax_y = Axis(scale=sc_y, orientation='vertical', label='Inches')\n",
    "\n",
    "lines = Lines(x=[], y=[], scales={'x': sc_x, 'y': sc_y})\n",
    "\n",
    "figure = Figure(marks=[lines], axes=[ax_x, ax_y], title='Precipitation')"
   ]
  },
  {
   "cell_type": "code",
   "execution_count": null,
   "metadata": {},
   "outputs": [],
   "source": [
    "def precipitation(*args, **kwargs):\n",
    "    global duration_dropdown\n",
    "    global annual_return_intervals_dropdown\n",
    "    global marker\n",
    "\n",
    "    lat, long = marker.location\n",
    "    intervals = annual_return_intervals_dropdown.value\n",
    "    duration = duration_dropdown.value\n",
    "\n",
    "    prcp.run_precip(lat, long, intervals, duration)\n",
    "\n",
    "    mins = [i * 5 for i in prcp.hrs]\n",
    "\n",
    "    lines.x = mins\n",
    "    lines.y = prcp.list_return\n",
    "\n",
    "precipitation_button.on_click(precipitation)"
   ]
  },
  {
   "cell_type": "code",
   "execution_count": null,
   "metadata": {},
   "outputs": [],
   "source": [
    "HBox((duration_dropdown, annual_return_intervals_dropdown, precipitation_button))"
   ]
  },
  {
   "cell_type": "code",
   "execution_count": null,
   "metadata": {},
   "outputs": [],
   "source": [
    "figure"
   ]
  }
 ],
 "metadata": {
  "kernelspec": {
   "display_name": "Python 3",
   "language": "python",
   "name": "python3"
  },
  "language_info": {
   "codemirror_mode": {
    "name": "ipython",
    "version": 3
   },
   "file_extension": ".py",
   "mimetype": "text/x-python",
   "name": "python",
   "nbconvert_exporter": "python",
   "pygments_lexer": "ipython3",
   "version": "3.8.0"
  }
 },
 "nbformat": 4,
 "nbformat_minor": 2
}
