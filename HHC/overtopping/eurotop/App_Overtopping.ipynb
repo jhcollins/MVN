{
 "cells": [
  {
   "cell_type": "markdown",
   "metadata": {},
   "source": [
    "## EurOtop Overtopping calculations\n",
    "Overtopping calculations as described in the EurOtop Manual on wave overtopping of sea defences and related structures (Second Edition 2018; www.overtopping-manual.com).\n",
    "\n",
    "With this interface, you will be able to load an input Excel file, specify number of Monte Carlo simulations (default 20,000), and specify the name and location of the output figures and Excel file detailing the design heights for each structure.\n",
    "\n",
    "EurOtop, 2018. Manual on wave overtopping of sea defences and related structures. An overtopping manual largely based on European research, but for worldwide application. Van der Meer, J.W., Allsop, N.W.H., Bruce, T., De Rouck, J., Kortenhaus, A., Pullen, T., Schüttrumpf, H., Troch, P. and Zanuttigh, B., www.overtopping-manual.com."
   ]
  },
  {
   "cell_type": "code",
   "execution_count": 1,
   "metadata": {},
   "outputs": [],
   "source": [
    "# Import necessary packages\n",
    "import numpy as np\n",
    "from pandas import DataFrame#, read_csv\n",
    "import matplotlib.pyplot as plt\n",
    "import pandas as pd \n",
    "from scipy.stats import norm\n",
    "# Import libraries\n",
    "import ipywidgets as widgets\n",
    "from ipywidgets.widgets import *\n",
    "from IPython.display import display\n",
    "from tkinter import filedialog\n",
    "from tkinter import *\n",
    "from tkinter.ttk import Progressbar\n",
    "from PIL import Image, ImageTk # pip install_pillow\n",
    "import warnings\n",
    "import tkinter.messagebox\n",
    "import time"
   ]
  },
  {
   "cell_type": "markdown",
   "metadata": {},
   "source": [
    "## Load Excel file and set parameters\n",
    "Load file with levee or wall information (.xls or .csv)."
   ]
  },
  {
   "cell_type": "code",
   "execution_count": 9,
   "metadata": {
    "scrolled": false
   },
   "outputs": [
    {
     "name": "stdout",
     "output_type": "stream",
     "text": [
      "Output file is C:/Users/b2edhdf9/Downloads/100YR_Future2_Eurotop_MeanValue\n",
      "Method chosen: Mean Value\n",
      "Number of iterations to perform: 20000\n"
     ]
    }
   ],
   "source": [
    "# Make GUI\n",
    "root = Tk()\n",
    "root.geometry(\"500x600\")\n",
    "root.title(\"Overtopping Calculation\")\n",
    "\n",
    "\n",
    "\n",
    "# Add image to GUI\n",
    "imge = Image.open(\"C:/Users/b2edhdf9/Desktop/MATLAB_to_Python/overtopping-manual-eurotop-image-01.jpg\")\n",
    "photo = ImageTk.PhotoImage(imge)\n",
    "lab = Label(image=photo)\n",
    "lab.pack()\n",
    "\n",
    "# Define type of input\n",
    "var_method = StringVar()\n",
    "var_sim = StringVar()\n",
    "var_in = StringVar()\n",
    "var_out = StringVar()\n",
    "def select_in():\n",
    "    global file_in\n",
    "    file_in = var_in.get()\n",
    "    file_in = filedialog.askopenfilename(initialdir = \"/\",\n",
    "                                     title = \"Select file\",\n",
    "                                     filetypes = ((\"XLS files\",\"*.xls\"),(\"CSV files\",\"*.csv\"),(\"all files\",\"*.*\")))\n",
    "    return file_in\n",
    "\n",
    "    #if file_in:\n",
    "    #    print(f\"Input file is {file_in}\")\n",
    "    print(f\"Input file is {file_in}\")\n",
    "    #else:\n",
    "    #    warnings.warn('Please select an input file')\n",
    "def select_out():\n",
    "    global calc_method\n",
    "    calc_method = var_method.get() # calculation method\n",
    "    global file_out\n",
    "    if calc_method == 'Mean Value':\n",
    "        file_out =  filedialog.asksaveasfilename(initialdir = \"/\", \n",
    "                                                 initialfile = \"100YR_Future2_Eurotop_MeanValue\",\n",
    "                                                 title = \"Select file\",filetypes = ((\"CSV files\",\"*.csv\"),(\"all files\",\"*.*\")))\n",
    "        print(f\"Output file is {file_out}\")\n",
    "    elif calc_method == 'Design & Assessment':\n",
    "        file_out =  filedialog.asksaveasfilename(initialdir = \"/\", \n",
    "                                                 initialfile = \"100YR_Future2_Eurotop_DesignAssess\", defaultextension = \".csv\",title = \"Select file\",filetypes = ((\"CSV files\",\"*.csv\"),(\"all files\",\"*.*\")))\n",
    "        print(f\"Output file is {file_out}\")\n",
    "    else:\n",
    "        tkinter.messagebox.showinfo(\"Select output file\",\n",
    "                                    \"Please select a calculation method.\")\n",
    "        #warnings.warn('Please select a calculation method')#file_out =  filedialog.asksaveasfilename(initialdir = \"/\", initialfile = \"100YR_Future2_Eurotop_DesignAssess\", defaultextension = \".csv\",title = \"Select file\",filetypes = ((\"CSV files\",\"*.csv\"),(\"all files\",\"*.*\")))\n",
    "    return file_out, calc_method\n",
    "    \n",
    "def select_run(): # Options for run simulations button\n",
    "    calc_method = var_method.get() # calculation method\n",
    "    global numsim\n",
    "    numsim = var_sim.get() # number of iterations\n",
    "        \n",
    "    try: file_in\n",
    "    except NameError: tkinter.messagebox.showinfo(\"Run Calculation\",\"Please select an input file.\")#file_in = '' # None\n",
    "    try: file_out\n",
    "    except NameError: tkinter.messagebox.showinfo(\"Run Calculation\",\"Please select an output file.\")#file_out = '' # None\n",
    "        \n",
    "    if (calc_method == \"Mean Value\" or calc_method == \"Design & Assessment\") and (file_in != \"\" and file_in != None) and (file_out != \"\" and file_out != None):\n",
    "#     if (calc_method == \"Mean Value\" or calc_method == \"Design & Assessment\") and file_in and file_out:\n",
    "        print(f\"Method chosen: {calc_method}\")\n",
    "        print(f\"Number of iterations to perform: {numsim}\")\n",
    "        tkinter.messagebox.showinfo(\"Overtopping Calculation Progress\",\n",
    "                                    \"Program is running!\")\n",
    "        root.destroy() # closes window\n",
    "\n",
    "        \n",
    "    elif calc_method != 'Mean Value' and  calc_method !='Design & Assessment':\n",
    "        tkinter.messagebox.showinfo(\"Run Calculation\",\n",
    "                                    \"Please select a calculation method.\")\n",
    "    return numsim\n",
    "\n",
    "\n",
    "# Create drop down menu for calculation method (mean value vs. design/assess)\n",
    "# Label for dropdown menu\n",
    "label_1 = Label(root,text=\"Calculation Method:\",width=20,font=(\"arial\",12,\"bold\"))\n",
    "label_1.place(x=50,y=374)\n",
    "# Dropdown menu\n",
    "list1 = ['Mean Value', 'Design & Assessment']\n",
    "droplist = OptionMenu(root,var_method,*list1)\n",
    "var_method.set(\"Select Method\")\n",
    "droplist.config(width=17,font=(\"arial\",12))\n",
    "droplist.place(x=270,y=370)\n",
    "\n",
    "# Enter text for number of iterations\n",
    "label_2 = Label(root,text=\"Number of Iterations:\",width=20,font=(\"arial\",12,\"bold\"))\n",
    "label_2.place(x=50,y=410)\n",
    "entry_2 = Entry(root,textvar=var_sim,width=22,font=(\"arial\",12))\n",
    "entry_2.place(x=268, y=411)\n",
    "entry_2.insert(END,20000)\n",
    "\n",
    "# Create button to choose input file\n",
    "#b_in = Button(root,text=\"Input File\",width=12,bg=((16,24,31)),fg=(211,188,141) )#  ,command=select_in)\n",
    "b_in = Button(root,text=\"Select Input File\",width=19,bg=\"#101820\",fg=\"#D3BC8D\",font=(\"arial\",12,\"bold\"),command=select_in)\n",
    "b_in.place(x=50,y=500)\n",
    "\n",
    "# Create button to choose where to save file\n",
    "b_out = Button(root,text=\"Select Output Name\",width=19,bg=\"#101820\",fg=\"#D3BC8D\",font=(\"arial\",12,\"bold\"),command=select_out)\n",
    "b_out.place(x=269,y=500)\n",
    "\n",
    "\n",
    "# # Add progress bar\n",
    "# prog_it = Progressbar(root, orient = HORIZONTAL, length = 100, mode = 'determinate') # progress bar for iteration number \n",
    "# prog_it.pack() # iteration number progress bar\n",
    "\n",
    "\n",
    "# Create button to run simulations\n",
    "b_run = Button(root,text=\"Run Simulations\",width=15,bg=\"#101820\",fg=\"#D3BC8D\",font=(\"arial\",14,\"bold\"),command=select_run)\n",
    "b_run.place(x=175,y=550)\n",
    "\n",
    "# Add title to top of GUI\n",
    "title = Label(root,text=\"EurOtop Overtopping (2018)\",relief=\"solid\",width=25,font=(\"arial\",19,\"bold\"))\n",
    "title.place(x=75,y=50)\n",
    "\n",
    "# Inputs: method, no. of iterations, file in, file out\n",
    "\n",
    "\n",
    "root.mainloop()"
   ]
  },
  {
   "cell_type": "code",
   "execution_count": 10,
   "metadata": {},
   "outputs": [],
   "source": [
    "# Add progress bar\n",
    "# pbar=Tk()\n",
    "# prog_it = Progressbar(pbar, orient = HORIZONTAL, length = 100, mode = 'determinate', maximum = numsim) # progress bar for iteration number \n"
   ]
  },
  {
   "cell_type": "code",
   "execution_count": 11,
   "metadata": {},
   "outputs": [],
   "source": [
    "# Import overtopping function\n",
    "from EurOtop_Overtopping import * "
   ]
  },
  {
   "cell_type": "code",
   "execution_count": null,
   "metadata": {},
   "outputs": [],
   "source": [
    "# Calculate overtopping\n",
    "OT(numsim,calc_method,file_in,file_out)"
   ]
  },
  {
   "cell_type": "code",
   "execution_count": null,
   "metadata": {},
   "outputs": [],
   "source": []
  }
 ],
 "metadata": {
  "kernelspec": {
   "display_name": "Python 3",
   "language": "python",
   "name": "python3"
  },
  "language_info": {
   "codemirror_mode": {
    "name": "ipython",
    "version": 3
   },
   "file_extension": ".py",
   "mimetype": "text/x-python",
   "name": "python",
   "nbconvert_exporter": "python",
   "pygments_lexer": "ipython3",
   "version": "3.7.1"
  }
 },
 "nbformat": 4,
 "nbformat_minor": 2
}
