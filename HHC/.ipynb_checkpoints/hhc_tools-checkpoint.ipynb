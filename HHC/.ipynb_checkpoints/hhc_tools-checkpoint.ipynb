{
 "cells": [
  {
   "cell_type": "code",
   "execution_count": 2,
   "metadata": {},
   "outputs": [
    {
     "data": {
      "image/png": "[encoded data removed]",
      "text/plain": [
       "<Figure size 432x288 with 1 Axes>"
      ]
     },
     "metadata": {
      "needs_background": "light"
     },
     "output_type": "display_data"
    }
   ],
   "source": [
    "#This is the main program file for the HHC-Tools GUI#\n",
    "\n",
    "#import background python modules#\n",
    "import sys\n",
    "#import numpy as np\n",
    "import tkinter as tk\n",
    "from tkinter import ttk\n",
    "#import matplotlib.pyplot as plt\n",
    "\n",
    "#-------------------------#\n",
    "m=tk.Tk()                            # Create instance for master window     \n",
    "m.title(\"HHC Tools\")                 # Add a title for master window\n",
    "tabControl = tk.ttk.Notebook(m)      # Create Tab Control using ttk notebook\n",
    "\n",
    "#Overtopping Tool Begin#\n",
    "\n",
    "sys.path.insert(1,'.\\overtopping\\eurotop')\n",
    "#import overtopping as ot\n",
    "overtopping = ttk.Frame(tabControl)            # Create overtopping tab instance \n",
    "tabControl.add(overtopping, text='overtopping')      # Add the title to the tab \n",
    "tabControl.pack(expand=1, fill=\"both\")   # Pack to make visible  \n",
    "button = tk.Button(overtopping, text='Stop', width=25, command=m.destroy) # adding button to overtopping tab\n",
    "button.pack()\n",
    "\n",
    "#Overtopping Tool end#\n",
    "\n",
    "#Rainfall Tool Begin#\n",
    "\n",
    "sys.path.insert(2,'.\\precipitation\\predicted')\n",
    "import rainfall_pred1 as prcp\n",
    "rainfall = ttk.Frame(tabControl)            # Create rainfall tab instance \n",
    "tabControl.add(rainfall, text='rainfall')      # Add the tab\n",
    "tabControl.pack(expand=1, fill=\"both\")  # Pack to make visible\n",
    "button2 = tk.Button(rainfall, text='Rainfall', width=25, command=lambda : prcp.run_precip(30,-90,'all','24-hr')) # adding button to rainfall tab\n",
    "button2.pack()\n",
    "\n",
    "#Rainfall Tool end#\n",
    "\n",
    "m.mainloop() # Start GUI\n"
   ]
  },
  {
   "cell_type": "code",
   "execution_count": null,
   "metadata": {},
   "outputs": [],
   "source": []
  },
  {
   "cell_type": "code",
   "execution_count": null,
   "metadata": {},
   "outputs": [],
   "source": []
  },
  {
   "cell_type": "code",
   "execution_count": null,
   "metadata": {},
   "outputs": [],
   "source": []
  },
  {
   "cell_type": "code",
   "execution_count": null,
   "metadata": {},
   "outputs": [],
   "source": []
  }
 ],
 "metadata": {
  "kernelspec": {
   "display_name": "Python 3",
   "language": "python",
   "name": "python3"
  },
  "language_info": {
   "codemirror_mode": {
    "name": "ipython",
    "version": 3
   },
   "file_extension": ".py",
   "mimetype": "text/x-python",
   "name": "python",
   "nbconvert_exporter": "python",
   "pygments_lexer": "ipython3",
   "version": "3.7.1"
  }
 },
 "nbformat": 4,
 "nbformat_minor": 2
}
