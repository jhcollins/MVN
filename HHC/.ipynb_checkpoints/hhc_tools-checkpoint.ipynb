{
 "cells": [
  {
   "cell_type": "code",
   "execution_count": 5,
   "metadata": {},
   "outputs": [],
   "source": [
    "#This is the main program file for the HHC-Tools GUI#\n",
    "\n",
    "#import background python modules#\n",
    "import sys\n",
    "import numpy as np\n",
    "import tkinter as tk\n",
    "from tkinter import ttk\n",
    "import matplotlib.pyplot as plt\n",
    "\n",
    "#-------------------------#\n"
   ]
  },
  {
   "cell_type": "code",
   "execution_count": 6,
   "metadata": {},
   "outputs": [],
   "source": [
    "m=tk.Tk()                            # Create instance for master window     \n",
    "m.title(\"HHC Tools\")                 # Add a title for master window\n",
    "tabControl = tk.ttk.Notebook(m)      # Create Tab Control using ttk notebook\n",
    "\n",
    "#Overtopping Tool Begin#\n",
    "\n",
    "sys.path.insert(1,'.\\overtopping\\eurotop')\n",
    "#import overtopping as ot\n",
    "overtopping = ttk.Frame(tabControl)            # Create overtopping tab instance \n",
    "tabControl.add(overtopping, text='overtopping')      # Add the title to the tab \n",
    "tabControl.pack(expand=1, fill=\"both\")   # Pack to make visible  \n",
    "button = tk.Button(overtopping, text='Stop', width=25, command=m.destroy) # adding button to overtopping tab\n",
    "button.pack()\n",
    "\n",
    "#Overtopping Tool end#\n",
    "\n",
    "#Rainfall Tool Begin#\n",
    "\n",
    "sys.path.insert(2,'.\\precipitation\\predicted')\n",
    "#import rainfall_pred as pcip\n",
    "rainfall = ttk.Frame(tabControl)            # Create rainfall tab instance \n",
    "tabControl.add(rainfall, text='rainfall')      # Add the tab\n",
    "tabControl.pack(expand=1, fill=\"both\")  # Pack to make visible\n",
    "button2 = tk.Button(rainfall, text='Rainfall', width=25, command=m.destroy) # adding button to rainfall tab\n",
    "button2.pack()\n",
    "\n",
    "#Rainfall Tool end#\n",
    "\n"
   ]
  },
  {
   "cell_type": "code",
   "execution_count": 7,
   "metadata": {},
   "outputs": [],
   "source": [
    "m.mainloop() # Start GUI"
   ]
  },
  {
   "cell_type": "code",
   "execution_count": null,
   "metadata": {},
   "outputs": [],
   "source": []
  },
  {
   "cell_type": "code",
   "execution_count": null,
   "metadata": {},
   "outputs": [],
   "source": []
  }
 ],
 "metadata": {
  "kernelspec": {
   "display_name": "Python 3",
   "language": "python",
   "name": "python3"
  },
  "language_info": {
   "codemirror_mode": {
    "name": "ipython",
    "version": 3
   },
   "file_extension": ".py",
   "mimetype": "text/x-python",
   "name": "python",
   "nbconvert_exporter": "python",
   "pygments_lexer": "ipython3",
   "version": "3.7.1"
  }
 },
 "nbformat": 4,
 "nbformat_minor": 2
}
