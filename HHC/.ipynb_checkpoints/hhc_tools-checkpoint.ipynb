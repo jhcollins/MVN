{
 "cells": [
  {
   "cell_type": "code",
   "execution_count": 53,
   "metadata": {},
   "outputs": [
    {
     "name": "stdout",
     "output_type": "stream",
     "text": [
      "Output file is C:/Users/b2edhdf9/Downloads/100YR_Future2_Eurotop_DesignAssess.csv\n",
      "Method chosen: Design & Assessment\n",
      "Number of iterations to perform: \n"
     ]
    },
    {
     "name": "stderr",
     "output_type": "stream",
     "text": [
      "Exception in Tkinter callback\n",
      "Traceback (most recent call last):\n",
      "  File \"C:\\Anaconda3\\lib\\tkinter\\__init__.py\", line 1705, in __call__\n",
      "    return self.func(*args)\n",
      "  File \"<ipython-input-53-52a0b4e32dc3>\", line 23, in create_window\n",
      "    import App_Overtopping\n",
      "  File \".\\overtopping\\eurotop\\App_Overtopping.py\", line 180, in <module>\n",
      "    OT(numsim,calc_method,file_in,file_out)\n",
      "  File \".\\overtopping\\eurotop\\EurOtop_Overtopping.py\", line 161, in OT\n",
      "    N = int(numsim) #dum.value #number of monte carlo simulations\n",
      "ValueError: invalid literal for int() with base 10: ''\n"
     ]
    }
   ],
   "source": [
    "#This is the main program file for the HHC-Tools GUI#\n",
    "\n",
    "#import background python modules#\n",
    "import sys\n",
    "#import numpy as np\n",
    "import tkinter as tk\n",
    "from tkinter import ttk\n",
    "#import matplotlib.pyplot as plt\n",
    "\n",
    "#-------------------------#\n",
    "m=tk.Tk()                            # Create instance for master window     \n",
    "m.title(\"HHC Tools\")                 # Add a title for master window\n",
    "tabControl = tk.ttk.Notebook(m)      # Create Tab Control using ttk notebook\n",
    "\n",
    "#Overtopping Tool Begin#\n",
    "\n",
    "sys.path.insert(1,'.\\overtopping\\eurotop')\n",
    "# import App_Overtopping as ot\n",
    "# from App_Overtopping import root as ot\n",
    "overtopping = ttk.Frame(tabControl)            # Create overtopping tab instance \n",
    "\n",
    "def open_ot():\n",
    "    import App_Overtopping\n",
    "    m.destroy()\n",
    "#     window = tk.Toplevel(root)\n",
    "# m = tk.Tk()\n",
    "# b = tk.Button(root, text=\"Create new window\", command=create_window)\n",
    "# b.pack()\n",
    "\n",
    "tabControl.add(overtopping, text='Overtopping')      # Add the title to the tab \n",
    "tabControl.pack(expand=1, fill=\"both\")   # Pack to make visible  \n",
    "button_ot = tk.Button(overtopping, text='Overtopping', width=25, command=open_ot)#m.destroy) # adding button to overtopping tab\n",
    "button_ot.pack()\n",
    "\n",
    "#Overtopping Tool end#\n",
    "\n",
    "#Rainfall Tool Begin#\n",
    "\n",
    "sys.path.insert(2,'.\\precipitation\\predicted')\n",
    "import rainfall_pred1 as prcp\n",
    "rainfall = ttk.Frame(tabControl)            # Create rainfall tab instance \n",
    "tabControl.add(rainfall, text='rainfall')      # Add the tab\n",
    "tabControl.pack(expand=1, fill=\"both\")  # Pack to make visible\n",
    "button2 = tk.Button(rainfall, text='Rainfall', width=25, command=lambda : prcp.run_precip(30,-90,'all','24-hr')) # adding button to rainfall tab\n",
    "button2.pack()\n",
    "\n",
    "#Rainfall Tool end#\n",
    "\n",
    "m.mainloop() # Start GUI\n"
   ]
  },
  {
   "cell_type": "code",
   "execution_count": null,
   "metadata": {},
   "outputs": [],
   "source": []
  },
  {
   "cell_type": "code",
   "execution_count": null,
   "metadata": {},
   "outputs": [],
   "source": []
  },
  {
   "cell_type": "code",
   "execution_count": null,
   "metadata": {},
   "outputs": [],
   "source": []
  }
 ],
 "metadata": {
  "kernelspec": {
   "display_name": "Python 3",
   "language": "python",
   "name": "python3"
  },
  "language_info": {
   "codemirror_mode": {
    "name": "ipython",
    "version": 3
   },
   "file_extension": ".py",
   "mimetype": "text/x-python",
   "name": "python",
   "nbconvert_exporter": "python",
   "pygments_lexer": "ipython3",
   "version": "3.7.1"
  }
 },
 "nbformat": 4,
 "nbformat_minor": 2
}
